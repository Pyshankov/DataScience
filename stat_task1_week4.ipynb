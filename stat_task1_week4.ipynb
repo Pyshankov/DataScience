{
 "cells": [
  {
   "cell_type": "code",
   "execution_count": 173,
   "id": "5baec2e8",
   "metadata": {},
   "outputs": [],
   "source": [
    "import numpy as np\n",
    "import pandas as pd\n",
    "\n",
    "import scipy\n",
    "from statsmodels.stats.weightstats import *\n",
    "from statsmodels.stats.proportion import proportion_confint\n",
    "from statsmodels.sandbox.stats.multicomp import multipletests \n",
    "import multiprocessing as mp"
   ]
  },
  {
   "cell_type": "code",
   "execution_count": 4,
   "id": "1f31996f",
   "metadata": {},
   "outputs": [
    {
     "name": "stdout",
     "output_type": "stream",
     "text": [
      "Populating the interactive namespace from numpy and matplotlib\n"
     ]
    }
   ],
   "source": [
    "%pylab inline"
   ]
  },
  {
   "cell_type": "code",
   "execution_count": 62,
   "id": "77d601e2",
   "metadata": {},
   "outputs": [],
   "source": [
    "gene_data = pd.read_csv(\"gene_high_throughput_sequencing.csv\", sep=\",\") "
   ]
  },
  {
   "cell_type": "code",
   "execution_count": 280,
   "id": "2534a8b5",
   "metadata": {},
   "outputs": [
    {
     "data": {
      "text/html": [
       "<div>\n",
       "<style scoped>\n",
       "    .dataframe tbody tr th:only-of-type {\n",
       "        vertical-align: middle;\n",
       "    }\n",
       "\n",
       "    .dataframe tbody tr th {\n",
       "        vertical-align: top;\n",
       "    }\n",
       "\n",
       "    .dataframe thead th {\n",
       "        text-align: right;\n",
       "    }\n",
       "</style>\n",
       "<table border=\"1\" class=\"dataframe\">\n",
       "  <thead>\n",
       "    <tr style=\"text-align: right;\">\n",
       "      <th></th>\n",
       "      <th>Patient_id</th>\n",
       "      <th>Diagnosis</th>\n",
       "      <th>LOC643837</th>\n",
       "      <th>LOC100130417</th>\n",
       "      <th>SAMD11</th>\n",
       "      <th>NOC2L</th>\n",
       "      <th>KLHL17</th>\n",
       "      <th>PLEKHN1</th>\n",
       "      <th>C1orf170</th>\n",
       "      <th>HES4</th>\n",
       "      <th>...</th>\n",
       "      <th>CLIC2</th>\n",
       "      <th>RPS4Y1</th>\n",
       "      <th>ZFY</th>\n",
       "      <th>PRKY</th>\n",
       "      <th>USP9Y</th>\n",
       "      <th>DDX3Y</th>\n",
       "      <th>CD24</th>\n",
       "      <th>CYorf15B</th>\n",
       "      <th>KDM5D</th>\n",
       "      <th>EIF1AY</th>\n",
       "    </tr>\n",
       "  </thead>\n",
       "  <tbody>\n",
       "    <tr>\n",
       "      <th>0</th>\n",
       "      <td>STT5425_Breast_001_normal</td>\n",
       "      <td>normal</td>\n",
       "      <td>1.257614</td>\n",
       "      <td>2.408148</td>\n",
       "      <td>13.368622</td>\n",
       "      <td>9.494779</td>\n",
       "      <td>20.880435</td>\n",
       "      <td>12.722017</td>\n",
       "      <td>9.494779</td>\n",
       "      <td>54.349694</td>\n",
       "      <td>...</td>\n",
       "      <td>4.761250</td>\n",
       "      <td>1.257614</td>\n",
       "      <td>1.257614</td>\n",
       "      <td>1.257614</td>\n",
       "      <td>1.257614</td>\n",
       "      <td>1.257614</td>\n",
       "      <td>23.268694</td>\n",
       "      <td>1.257614</td>\n",
       "      <td>1.257614</td>\n",
       "      <td>1.257614</td>\n",
       "    </tr>\n",
       "    <tr>\n",
       "      <th>1</th>\n",
       "      <td>STT5427_Breast_023_normal</td>\n",
       "      <td>normal</td>\n",
       "      <td>4.567931</td>\n",
       "      <td>16.602734</td>\n",
       "      <td>42.477752</td>\n",
       "      <td>25.562376</td>\n",
       "      <td>23.221137</td>\n",
       "      <td>11.622386</td>\n",
       "      <td>14.330573</td>\n",
       "      <td>72.445474</td>\n",
       "      <td>...</td>\n",
       "      <td>6.871902</td>\n",
       "      <td>1.815112</td>\n",
       "      <td>1.815112</td>\n",
       "      <td>1.815112</td>\n",
       "      <td>1.815112</td>\n",
       "      <td>1.815112</td>\n",
       "      <td>10.427023</td>\n",
       "      <td>1.815112</td>\n",
       "      <td>1.815112</td>\n",
       "      <td>1.815112</td>\n",
       "    </tr>\n",
       "    <tr>\n",
       "      <th>2</th>\n",
       "      <td>STT5430_Breast_002_normal</td>\n",
       "      <td>normal</td>\n",
       "      <td>2.077597</td>\n",
       "      <td>3.978294</td>\n",
       "      <td>12.863214</td>\n",
       "      <td>13.728915</td>\n",
       "      <td>14.543176</td>\n",
       "      <td>14.141907</td>\n",
       "      <td>6.232790</td>\n",
       "      <td>57.011005</td>\n",
       "      <td>...</td>\n",
       "      <td>7.096343</td>\n",
       "      <td>2.077597</td>\n",
       "      <td>2.077597</td>\n",
       "      <td>2.077597</td>\n",
       "      <td>2.077597</td>\n",
       "      <td>2.077597</td>\n",
       "      <td>22.344226</td>\n",
       "      <td>2.077597</td>\n",
       "      <td>2.077597</td>\n",
       "      <td>2.077597</td>\n",
       "    </tr>\n",
       "    <tr>\n",
       "      <th>3</th>\n",
       "      <td>STT5439_Breast_003_normal</td>\n",
       "      <td>normal</td>\n",
       "      <td>2.066576</td>\n",
       "      <td>8.520713</td>\n",
       "      <td>14.466035</td>\n",
       "      <td>7.823932</td>\n",
       "      <td>8.520713</td>\n",
       "      <td>2.066576</td>\n",
       "      <td>10.870009</td>\n",
       "      <td>53.292034</td>\n",
       "      <td>...</td>\n",
       "      <td>5.200770</td>\n",
       "      <td>2.066576</td>\n",
       "      <td>2.066576</td>\n",
       "      <td>2.066576</td>\n",
       "      <td>2.066576</td>\n",
       "      <td>2.066576</td>\n",
       "      <td>49.295538</td>\n",
       "      <td>2.066576</td>\n",
       "      <td>2.066576</td>\n",
       "      <td>2.066576</td>\n",
       "    </tr>\n",
       "    <tr>\n",
       "      <th>4</th>\n",
       "      <td>STT5441_Breast_004_normal</td>\n",
       "      <td>normal</td>\n",
       "      <td>2.613616</td>\n",
       "      <td>3.434965</td>\n",
       "      <td>12.682222</td>\n",
       "      <td>10.543189</td>\n",
       "      <td>26.688686</td>\n",
       "      <td>12.484822</td>\n",
       "      <td>1.364917</td>\n",
       "      <td>67.140393</td>\n",
       "      <td>...</td>\n",
       "      <td>11.227770</td>\n",
       "      <td>1.364917</td>\n",
       "      <td>1.364917</td>\n",
       "      <td>1.364917</td>\n",
       "      <td>1.364917</td>\n",
       "      <td>1.364917</td>\n",
       "      <td>23.627911</td>\n",
       "      <td>1.364917</td>\n",
       "      <td>1.364917</td>\n",
       "      <td>1.364917</td>\n",
       "    </tr>\n",
       "  </tbody>\n",
       "</table>\n",
       "<p>5 rows × 15750 columns</p>\n",
       "</div>"
      ],
      "text/plain": [
       "                  Patient_id Diagnosis  LOC643837  LOC100130417     SAMD11  \\\n",
       "0  STT5425_Breast_001_normal    normal   1.257614      2.408148  13.368622   \n",
       "1  STT5427_Breast_023_normal    normal   4.567931     16.602734  42.477752   \n",
       "2  STT5430_Breast_002_normal    normal   2.077597      3.978294  12.863214   \n",
       "3  STT5439_Breast_003_normal    normal   2.066576      8.520713  14.466035   \n",
       "4  STT5441_Breast_004_normal    normal   2.613616      3.434965  12.682222   \n",
       "\n",
       "       NOC2L     KLHL17    PLEKHN1   C1orf170       HES4  ...      CLIC2  \\\n",
       "0   9.494779  20.880435  12.722017   9.494779  54.349694  ...   4.761250   \n",
       "1  25.562376  23.221137  11.622386  14.330573  72.445474  ...   6.871902   \n",
       "2  13.728915  14.543176  14.141907   6.232790  57.011005  ...   7.096343   \n",
       "3   7.823932   8.520713   2.066576  10.870009  53.292034  ...   5.200770   \n",
       "4  10.543189  26.688686  12.484822   1.364917  67.140393  ...  11.227770   \n",
       "\n",
       "     RPS4Y1       ZFY      PRKY     USP9Y     DDX3Y       CD24  CYorf15B  \\\n",
       "0  1.257614  1.257614  1.257614  1.257614  1.257614  23.268694  1.257614   \n",
       "1  1.815112  1.815112  1.815112  1.815112  1.815112  10.427023  1.815112   \n",
       "2  2.077597  2.077597  2.077597  2.077597  2.077597  22.344226  2.077597   \n",
       "3  2.066576  2.066576  2.066576  2.066576  2.066576  49.295538  2.066576   \n",
       "4  1.364917  1.364917  1.364917  1.364917  1.364917  23.627911  1.364917   \n",
       "\n",
       "      KDM5D    EIF1AY  \n",
       "0  1.257614  1.257614  \n",
       "1  1.815112  1.815112  \n",
       "2  2.077597  2.077597  \n",
       "3  2.066576  2.066576  \n",
       "4  1.364917  1.364917  \n",
       "\n",
       "[5 rows x 15750 columns]"
      ]
     },
     "execution_count": 280,
     "metadata": {},
     "output_type": "execute_result"
    }
   ],
   "source": [
    "gene_cols = gene_data.columns[2:]\n",
    "gene_data.head()"
   ]
  },
  {
   "cell_type": "code",
   "execution_count": 281,
   "id": "c6e0a9f4",
   "metadata": {},
   "outputs": [],
   "source": [
    "gene_data_normal = gene_data[gene_data['Diagnosis'] == 'normal']\n",
    "gene_data_early = gene_data[gene_data['Diagnosis'] == 'early neoplasia']\n",
    "gene_data_cancer = gene_data[gene_data['Diagnosis'] == 'cancer']"
   ]
  },
  {
   "cell_type": "code",
   "execution_count": 313,
   "id": "2d369632",
   "metadata": {},
   "outputs": [],
   "source": [
    "# define practically valuable metric: fold change\n",
    "def fold_change(C, T): \n",
    "    if(T > C):\n",
    "        return T / C\n",
    "    else:\n",
    "        return  C / T\n",
    "\n",
    "# calculate t-statistic and p-value for genes\n",
    "def stat_pract_significance(args): \n",
    "    control, treatment, genes_names = args\n",
    "    data = pd.DataFrame()\n",
    "    data['gene_name'] = np.array(genes_names)\n",
    "    data = data.set_index(['gene_name'])\n",
    "    \n",
    "    data['mean_control'] = np.zeros(len(genes_names))\n",
    "    data['mean_treatment'] = np.zeros(len(genes_names))\n",
    "    data['F_c'] = np.zeros(len(genes_names))\n",
    "    \n",
    "    data['t_stat'] = np.zeros(len(genes_names))\n",
    "    data['p_value'] = np.zeros(len(genes_names))\n",
    "    data['h0_rejected'] = numpy.full(len(genes_names), numpy.nan)\n",
    "    data['F_c_change_significant'] = numpy.full(len(genes_names), numpy.nan)\n",
    "    \n",
    "    for gene in genes_names: \n",
    "        t_test_result = scipy.stats.ttest_ind(control[gene], treatment[gene], equal_var = False)\n",
    "        \n",
    "        n_mean = control[gene].mean()\n",
    "        d_mean = treatment[gene].mean()\n",
    "        F_c = fold_change(n_mean, d_mean)\n",
    "        t_stat = t_test_result.statistic\n",
    "        p_value = t_test_result.pvalue\n",
    "        \n",
    "        data.loc[gene,[ 'mean_control', 'mean_treatment', 'F_c', 't_stat', 'p_value']] = [n_mean, d_mean, F_c, t_stat, p_value]\n",
    "        data.loc[gene,['h0_rejected']] = p_value < 0.05 # confidence level statistical\n",
    "        data.loc[gene,['F_c_change_significant']] = np.abs(F_c) > 1.5 # confidence level practical \n",
    "\n",
    "    return data\n",
    "\n",
    "# multiple hypothesis testing\n",
    "#Для того, чтобы ее устранить, достаточно воспользоваться поправкой Бонферрони, \n",
    "#то есть использовать уровень значимости 0.05 / 2 вместо 0.05 для дальнейшего уточнения значений p-value \n",
    "#c помощью метода Холма.\n",
    "def stat_pract_significance_multiple(stat, alpha = 0.025, method = 'holm'):\n",
    "    reject, p_corrected, a1, a2 = multipletests(stat['p_value'], alpha, method) \n",
    "    \n",
    "    \n",
    "    \n",
    "    stat['p_corrected_' + method] = p_corrected\n",
    "    stat['h0_rejected_' + method] = reject\n",
    "#     stat['h0_rejected_' + method] = p_corrected < 0.05 # confidence level is the same\n",
    "    \n",
    "    return stat\n",
    "\n",
    "#calculations, Part 1\n",
    "def part1(control, treatment, gene_cols, name): \n",
    "    data = stat_pract_significance((control, treatment, gene_cols))\n",
    "    res_stat = data[data['h0_rejected'] == True].h0_rejected.count()\n",
    "\n",
    "    print('Amount of genes with statistical difference for ['+name+'] :', res_stat)\n",
    "    return data\n",
    "    \n",
    "def part23(res_stat, name, alpha = 0.025, method = 'holm'):\n",
    "    stat_pract_significance_multiple(res_stat, alpha, method)\n",
    "    \n",
    "    rejected = res_stat[res_stat['h0_rejected_'+method] == True]\n",
    "    \n",
    "    rejected_stat = rejected['h0_rejected_'+method].count()\n",
    "    \n",
    "    rejected_practical = res_stat[res_stat['F_c_change_significant'] == True]['F_c_change_significant'].count()\n",
    "    \n",
    "    rejected_practical_stat = rejected[rejected['F_c_change_significant'] == True]['F_c_change_significant'].count()\n",
    "    \n",
    "    print('Amount of genes with statistical difference using ['+method+'] for ['+name+'] :', rejected_stat)\n",
    "    print('Amount of genes with practical difference using ['+method+'] for ['+name+'] :', rejected_practical)\n",
    "    print('Amount of genes with practical & statistical difference using ['+method+'] for ['+name+'] :', rejected_practical_stat)\n",
    "\n",
    "\n",
    "#https://stackoverflow.com/questions/41385708/multiprocessing-example-giving-attributeerror\n",
    "#cpu_count = mp.cpu_count()\n",
    "#pool = mp.Pool(processes=cpu_count)\n",
    "# dfs = pool.map( statistical_significance, [(gene_data_normal, gene_data_early, genes_col.array) for genes_col in numpy.array_split(gene_cols, cpu_count)])\n",
    "# data_all_new = pd.concat( dfs )"
   ]
  },
  {
   "cell_type": "markdown",
   "id": "a5a12627",
   "metadata": {},
   "source": [
    "# PART 1"
   ]
  },
  {
   "cell_type": "code",
   "execution_count": 299,
   "id": "f81dd24c",
   "metadata": {},
   "outputs": [
    {
     "name": "stdout",
     "output_type": "stream",
     "text": [
      "Amount of genes with statistical difference for [early neoplasia] : 1575\n"
     ]
    }
   ],
   "source": [
    "en_stat = part1(gene_data_normal, gene_data_early, gene_cols, 'early neoplasia')"
   ]
  },
  {
   "cell_type": "code",
   "execution_count": 300,
   "id": "27bd7e15",
   "metadata": {},
   "outputs": [
    {
     "name": "stdout",
     "output_type": "stream",
     "text": [
      "Amount of genes with statistical difference for [cancer] : 4059\n"
     ]
    }
   ],
   "source": [
    "cancer_stat = part1(gene_data_normal, gene_data_cancer, gene_cols, 'cancer')"
   ]
  },
  {
   "cell_type": "markdown",
   "id": "d1da2f6b",
   "metadata": {},
   "source": [
    "# PART 2"
   ]
  },
  {
   "cell_type": "code",
   "execution_count": 318,
   "id": "cc1bdc9e",
   "metadata": {},
   "outputs": [
    {
     "name": "stdout",
     "output_type": "stream",
     "text": [
      "Amount of genes with statistical difference using [holm] for [early neoplasia] : 2\n",
      "Amount of genes with practical difference using [holm] for [early neoplasia] : 261\n",
      "Amount of genes with practical & statistical difference using [holm] for [early neoplasia] : 2\n"
     ]
    }
   ],
   "source": [
    "part23(en_stat, name = 'early neoplasia', alpha = 0.025, method = 'holm')"
   ]
  },
  {
   "cell_type": "code",
   "execution_count": 319,
   "id": "d73e33d0",
   "metadata": {},
   "outputs": [
    {
     "name": "stdout",
     "output_type": "stream",
     "text": [
      "Amount of genes with statistical difference using [holm] for [cancer] : 163\n",
      "Amount of genes with practical difference using [holm] for [cancer] : 1449\n",
      "Amount of genes with practical & statistical difference using [holm] for [cancer] : 146\n"
     ]
    }
   ],
   "source": [
    "part23(cancer_stat,name = 'cancer', alpha = 0.025, method = 'holm')"
   ]
  },
  {
   "cell_type": "markdown",
   "id": "eb26b424",
   "metadata": {},
   "source": [
    "# PART 3"
   ]
  },
  {
   "cell_type": "code",
   "execution_count": 320,
   "id": "4efc4b9f",
   "metadata": {},
   "outputs": [
    {
     "name": "stdout",
     "output_type": "stream",
     "text": [
      "Amount of genes with statistical difference using [fdr_bh] for [early neoplasia] : 4\n",
      "Amount of genes with practical difference using [fdr_bh] for [early neoplasia] : 261\n",
      "Amount of genes with practical & statistical difference using [fdr_bh] for [early neoplasia] : 4\n"
     ]
    }
   ],
   "source": [
    "part23(en_stat,name = 'early neoplasia',alpha = 0.025, method = 'fdr_bh')"
   ]
  },
  {
   "cell_type": "code",
   "execution_count": 321,
   "id": "7f23efc3",
   "metadata": {},
   "outputs": [
    {
     "name": "stdout",
     "output_type": "stream",
     "text": [
      "Amount of genes with statistical difference using [fdr_bh] for [cancer] : 1419\n",
      "Amount of genes with practical difference using [fdr_bh] for [cancer] : 1449\n",
      "Amount of genes with practical & statistical difference using [fdr_bh] for [cancer] : 840\n"
     ]
    }
   ],
   "source": [
    "part23(cancer_stat,name = 'cancer',alpha = 0.025, method = 'fdr_bh')"
   ]
  },
  {
   "cell_type": "code",
   "execution_count": 307,
   "id": "a42dbdb3",
   "metadata": {},
   "outputs": [],
   "source": [
    "with open('answer1.txt', 'w') as fout:\n",
    "    fout.write(str(1575))\n",
    "    \n",
    "with open('answer2.txt', 'w') as fout:\n",
    "    fout.write(str(4059))"
   ]
  },
  {
   "cell_type": "code",
   "execution_count": 308,
   "id": "effc769c",
   "metadata": {},
   "outputs": [],
   "source": [
    "with open('answer3.txt', 'w') as fout:\n",
    "    fout.write(str(2))\n",
    "    \n",
    "with open('answer4.txt', 'w') as fout:\n",
    "    fout.write(str(146))"
   ]
  },
  {
   "cell_type": "code",
   "execution_count": 309,
   "id": "10b75855",
   "metadata": {},
   "outputs": [],
   "source": [
    "with open('answer5.txt', 'w') as fout:\n",
    "    fout.write(str(4))\n",
    "    \n",
    "with open('answer6.txt', 'w') as fout:\n",
    "    fout.write(str(840))"
   ]
  },
  {
   "cell_type": "code",
   "execution_count": null,
   "id": "16c12fa7",
   "metadata": {},
   "outputs": [],
   "source": []
  }
 ],
 "metadata": {
  "kernelspec": {
   "display_name": "Python 3 (ipykernel)",
   "language": "python",
   "name": "python3"
  },
  "language_info": {
   "codemirror_mode": {
    "name": "ipython",
    "version": 3
   },
   "file_extension": ".py",
   "mimetype": "text/x-python",
   "name": "python",
   "nbconvert_exporter": "python",
   "pygments_lexer": "ipython3",
   "version": "3.9.7"
  }
 },
 "nbformat": 4,
 "nbformat_minor": 5
}
