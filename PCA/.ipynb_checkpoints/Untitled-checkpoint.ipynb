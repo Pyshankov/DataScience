{
 "cells": [
  {
   "cell_type": "code",
   "execution_count": 35,
   "metadata": {
    "collapsed": false
   },
   "outputs": [],
   "source": [
    "import cv2\n",
    "import numpy as np\n",
    "from PIL import Image"
   ]
  },
  {
   "cell_type": "code",
   "execution_count": 3,
   "metadata": {
    "collapsed": false
   },
   "outputs": [
    {
     "name": "stdout",
     "output_type": "stream",
     "text": [
      "<type 'numpy.ndarray'>\n"
     ]
    }
   ],
   "source": [
    "im = cv2.imread(\"face.jpg\")\n",
    "print type(im)"
   ]
  },
  {
   "cell_type": "code",
   "execution_count": 37,
   "metadata": {
    "collapsed": false
   },
   "outputs": [],
   "source": [
    "im.shape\n",
    "img = Image.fromarray(im, 'RGB')\n",
    "img.show()"
   ]
  },
  {
   "cell_type": "code",
   "execution_count": 39,
   "metadata": {
    "collapsed": false
   },
   "outputs": [
    {
     "data": {
      "text/plain": [
       "array([[[ 40,  30,  30],\n",
       "        [ 39,  29,  29],\n",
       "        [ 38,  28,  28],\n",
       "        ..., \n",
       "        [ 27,  23,  22],\n",
       "        [ 27,  23,  22],\n",
       "        [ 27,  23,  22]],\n",
       "\n",
       "       [[ 40,  30,  30],\n",
       "        [ 39,  29,  29],\n",
       "        [ 38,  28,  28],\n",
       "        ..., \n",
       "        [ 25,  21,  20],\n",
       "        [ 25,  21,  20],\n",
       "        [ 25,  21,  20]],\n",
       "\n",
       "       [[ 40,  30,  30],\n",
       "        [ 39,  29,  29],\n",
       "        [ 38,  28,  28],\n",
       "        ..., \n",
       "        [ 24,  20,  19],\n",
       "        [ 24,  20,  19],\n",
       "        [ 24,  20,  19]],\n",
       "\n",
       "       ..., \n",
       "       [[235, 227, 227],\n",
       "        [235, 227, 227],\n",
       "        [235, 227, 227],\n",
       "        ..., \n",
       "        [234, 226, 227],\n",
       "        [235, 227, 228],\n",
       "        [234, 226, 227]],\n",
       "\n",
       "       [[235, 227, 227],\n",
       "        [235, 227, 227],\n",
       "        [234, 226, 226],\n",
       "        ..., \n",
       "        [234, 226, 227],\n",
       "        [235, 227, 228],\n",
       "        [234, 226, 227]],\n",
       "\n",
       "       [[235, 227, 227],\n",
       "        [235, 227, 227],\n",
       "        [234, 226, 226],\n",
       "        ..., \n",
       "        [233, 225, 226],\n",
       "        [234, 226, 227],\n",
       "        [234, 226, 227]]], dtype=uint8)"
      ]
     },
     "execution_count": 39,
     "metadata": {},
     "output_type": "execute_result"
    }
   ],
   "source": [
    "#get sample vector\n",
    "reshape_image = im.reshape(im.shape[0] * im.shape[1]  ,3)\n",
    "reshape_image.reshape(150,150,3)"
   ]
  },
  {
   "cell_type": "code",
   "execution_count": 40,
   "metadata": {
    "collapsed": false
   },
   "outputs": [],
   "source": [
    "#compute covariance matrix\n",
    "reshape_image_cov = np.dot(reshape_image,reshape_image.T)"
   ]
  },
  {
   "cell_type": "code",
   "execution_count": null,
   "metadata": {
    "collapsed": false
   },
   "outputs": [],
   "source": [
    "U,S,V = np.linalg.svd(reshape_image_cov)"
   ]
  },
  {
   "cell_type": "code",
   "execution_count": null,
   "metadata": {
    "collapsed": true
   },
   "outputs": [],
   "source": []
  },
  {
   "cell_type": "code",
   "execution_count": null,
   "metadata": {
    "collapsed": true
   },
   "outputs": [],
   "source": []
  }
 ],
 "metadata": {
  "kernelspec": {
   "display_name": "Python 2",
   "language": "python",
   "name": "python2"
  },
  "language_info": {
   "codemirror_mode": {
    "name": "ipython",
    "version": 2
   },
   "file_extension": ".py",
   "mimetype": "text/x-python",
   "name": "python",
   "nbconvert_exporter": "python",
   "pygments_lexer": "ipython2",
   "version": "2.7.6"
  }
 },
 "nbformat": 4,
 "nbformat_minor": 0
}
