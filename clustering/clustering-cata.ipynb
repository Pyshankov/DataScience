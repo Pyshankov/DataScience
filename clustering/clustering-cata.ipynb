{
 "cells": [
  {
   "cell_type": "code",
   "execution_count": 1,
   "metadata": {
    "collapsed": true
   },
   "outputs": [],
   "source": [
    "import numpy as np\n",
    "from sklearn.cluster import MeanShift, estimate_bandwidth\n",
    "from sklearn.datasets.samples_generator import make_blobs\n",
    "import matplotlib.pyplot as plt\n",
    "from itertools import cycle\n",
    "import pandas as pd    \n",
    "import math"
   ]
  },
  {
   "cell_type": "code",
   "execution_count": 5,
   "metadata": {
    "collapsed": false
   },
   "outputs": [
    {
     "name": "stderr",
     "output_type": "stream",
     "text": [
      "/usr/local/lib/python2.7/dist-packages/IPython/core/interactiveshell.py:2717: DtypeWarning: Columns (0) have mixed types. Specify dtype option on import or set low_memory=False.\n",
      "  interactivity=interactivity, compiler=compiler, result=result)\n"
     ]
    },
    {
     "data": {
      "text/html": [
       "<div>\n",
       "<table border=\"1\" class=\"dataframe\">\n",
       "  <thead>\n",
       "    <tr style=\"text-align: right;\">\n",
       "      <th></th>\n",
       "      <th>id</th>\n",
       "      <th>user_id</th>\n",
       "      <th>venue_id</th>\n",
       "      <th>latitude</th>\n",
       "      <th>longitude</th>\n",
       "      <th>created_at</th>\n",
       "    </tr>\n",
       "  </thead>\n",
       "  <tbody>\n",
       "    <tr>\n",
       "      <th>1</th>\n",
       "      <td>984222</td>\n",
       "      <td>15824.0</td>\n",
       "      <td>5222.0</td>\n",
       "      <td>38.8951118</td>\n",
       "      <td>-77.0363658</td>\n",
       "      <td>2012-04-21 17:43:47</td>\n",
       "    </tr>\n",
       "    <tr>\n",
       "      <th>2</th>\n",
       "      <td>984234</td>\n",
       "      <td>44652.0</td>\n",
       "      <td>5222.0</td>\n",
       "      <td>33.800745</td>\n",
       "      <td>-84.41052</td>\n",
       "      <td>2012-04-21 17:43:43</td>\n",
       "    </tr>\n",
       "    <tr>\n",
       "      <th>3</th>\n",
       "      <td>984291</td>\n",
       "      <td>105054.0</td>\n",
       "      <td>5222.0</td>\n",
       "      <td>45.5234515</td>\n",
       "      <td>-122.6762071</td>\n",
       "      <td>2012-04-21 17:39:22</td>\n",
       "    </tr>\n",
       "    <tr>\n",
       "      <th>4</th>\n",
       "      <td>984318</td>\n",
       "      <td>2146539.0</td>\n",
       "      <td>5222.0</td>\n",
       "      <td>40.764462</td>\n",
       "      <td>-111.904565</td>\n",
       "      <td>2012-04-21 17:35:46</td>\n",
       "    </tr>\n",
       "    <tr>\n",
       "      <th>5</th>\n",
       "      <td>984232</td>\n",
       "      <td>93870.0</td>\n",
       "      <td>380645.0</td>\n",
       "      <td>33.4483771</td>\n",
       "      <td>-112.0740373</td>\n",
       "      <td>2012-04-21 17:38:18</td>\n",
       "    </tr>\n",
       "  </tbody>\n",
       "</table>\n",
       "</div>"
      ],
      "text/plain": [
       "       id    user_id  venue_id    latitude     longitude            created_at\n",
       "1  984222    15824.0    5222.0  38.8951118   -77.0363658   2012-04-21 17:43:47\n",
       "2  984234    44652.0    5222.0   33.800745     -84.41052   2012-04-21 17:43:43\n",
       "3  984291   105054.0    5222.0  45.5234515  -122.6762071   2012-04-21 17:39:22\n",
       "4  984318  2146539.0    5222.0   40.764462   -111.904565   2012-04-21 17:35:46\n",
       "5  984232    93870.0  380645.0  33.4483771  -112.0740373   2012-04-21 17:38:18"
      ]
     },
     "execution_count": 5,
     "metadata": {},
     "output_type": "execute_result"
    }
   ],
   "source": [
    "column_names = ['id','user_id','venue_id','latitude','longitude','created_at']\n",
    "data = pd.read_csv('checkins.csv', sep=',', header=1 , names = column_names)\n",
    "data.replace('                   ', np.nan, inplace=True)\n",
    "data.dropna(inplace=True)\n",
    "data.index = range(1,len(data) + 1)\n",
    "data.head()"
   ]
  },
  {
   "cell_type": "code",
   "execution_count": 6,
   "metadata": {
    "collapsed": false
   },
   "outputs": [],
   "source": [
    "exp_data = data[:100000]\n",
    "exp_data = exp_data[['latitude', 'longitude']]"
   ]
  },
  {
   "cell_type": "code",
   "execution_count": 9,
   "metadata": {
    "collapsed": false
   },
   "outputs": [
    {
     "name": "stdout",
     "output_type": "stream",
     "text": [
      "CPU times: user 4min 4s, sys: 336 ms, total: 4min 5s\n",
      "Wall time: 4min 5s\n"
     ]
    }
   ],
   "source": [
    "%%time\n",
    "bandwidth = 0.1\n",
    "ms = MeanShift(bandwidth = bandwidth)\n",
    "ms.fit(exp_data)"
   ]
  },
  {
   "cell_type": "code",
   "execution_count": 11,
   "metadata": {
    "collapsed": false
   },
   "outputs": [
    {
     "name": "stdout",
     "output_type": "stream",
     "text": [
      "CPU times: user 21.7 s, sys: 32.6 s, total: 54.3 s\n",
      "Wall time: 14.5 s\n"
     ]
    }
   ],
   "source": [
    "%%time\n",
    "res = ms.predict(data[['latitude', 'longitude']])"
   ]
  },
  {
   "cell_type": "code",
   "execution_count": 114,
   "metadata": {
    "collapsed": false
   },
   "outputs": [],
   "source": [
    "\n",
    "office_location = { \n",
    "    'Los Angeles' : [33.751277, -118.188740] , \n",
    "    'Miami' : [25.867736, -80.324116], \n",
    "    'London' : [51.503016, -0.075479],\n",
    "    'Amsterdam' : [52.378894, 4.885084],\n",
    "    'Beijing' : [39.366487, 117.036146],\n",
    "    'Sydney' : [-33.868457, 151.205134]}\n",
    "def distance(point1, point2):\n",
    "    return math.sqrt((point1[0]-point2[0])*(point1[0]-point2[0]) + (point1[1]-point2[1])*(point1[1]-point2[1]))\n",
    "\n",
    "def compute_table_for_each_office(clusters, office_location):\n",
    "    index = range(len(clusters));\n",
    "    df_ = pd.DataFrame(index=index, columns=office_location.keys())\n",
    "    df_ = df_.fillna(0)\n",
    "    for key in office_location:\n",
    "        for i in index:\n",
    "            df_.set_value(i, key, distance(clusters[i],office_location[key]))\n",
    "    return df_;\n",
    "def compute_min_for_each_office(clusters,table ,office_location):\n",
    "    res = {}\n",
    "    for key in office_location:\n",
    "        indx = table[key].idxmin()\n",
    "        table = table.drop(indx)\n",
    "        res[key] = clusters[indx]\n",
    "    return [res,table]\n",
    "\n",
    "def show_res(df):\n",
    "    for key in df:\n",
    "        print df[key][0],df[key][1]\n",
    "        print ''\n",
    "    "
   ]
  },
  {
   "cell_type": "code",
   "execution_count": 117,
   "metadata": {
    "collapsed": false
   },
   "outputs": [
    {
     "name": "stdout",
     "output_type": "stream",
     "text": [
      "39.904214 116.407413\n",
      "\n",
      "34.0603975546 -118.248709027\n",
      "\n",
      "25.78581242 -80.2179380368\n",
      "\n",
      "51.5029912609 -0.12553728871\n",
      "\n",
      "-33.8606304286 151.204775929\n",
      "\n",
      "52.3729639903 4.89231722258\n",
      "\n",
      "39.121079 117.214389\n",
      "\n",
      "34.0354869531 -118.438997719\n",
      "\n",
      "26.1208626586 -80.1589066802\n",
      "\n",
      "51.4267632889 -0.303732066667\n",
      "\n",
      "-33.7149546 150.3114074\n",
      "\n",
      "52.080058 5.10513275\n",
      "\n",
      "40.376322 116.842992\n",
      "\n",
      "34.1274022191 -118.351883725\n",
      "\n",
      "26.0100982493 -80.1999905857\n",
      "\n",
      "51.455041 -0.9690884\n",
      "\n",
      "-34.00190615 151.12806905\n",
      "\n",
      "52.0435286167 4.32027353333\n",
      "\n",
      "31.230393 121.473704\n",
      "\n",
      "33.8173064339 -117.891249171\n",
      "\n",
      "26.3525711663 -80.0852787174\n",
      "\n",
      "51.5064787667 -0.365177266667\n",
      "\n",
      "-33.9522629 151.0321372\n",
      "\n",
      "52.388501 4.63376546667\n",
      "\n",
      "CPU times: user 252 ms, sys: 0 ns, total: 252 ms\n",
      "Wall time: 238 ms\n"
     ]
    }
   ],
   "source": [
    "%%time\n",
    "table = compute_table_for_each_office(ms.cluster_centers_,office_location)\n",
    "for i in range(4):\n",
    "    df = compute_min_for_each_office(ms.cluster_centers_,table,office_location)[0]\n",
    "    table = compute_min_for_each_office(ms.cluster_centers_,table,office_location)[1]\n",
    "    show_res(df)\n",
    "\n"
   ]
  },
  {
   "cell_type": "code",
   "execution_count": null,
   "metadata": {
    "collapsed": true
   },
   "outputs": [],
   "source": []
  }
 ],
 "metadata": {
  "kernelspec": {
   "display_name": "Python 2",
   "language": "python",
   "name": "python2"
  },
  "language_info": {
   "codemirror_mode": {
    "name": "ipython",
    "version": 2
   },
   "file_extension": ".py",
   "mimetype": "text/x-python",
   "name": "python",
   "nbconvert_exporter": "python",
   "pygments_lexer": "ipython2",
   "version": "2.7.12"
  }
 },
 "nbformat": 4,
 "nbformat_minor": 2
}
